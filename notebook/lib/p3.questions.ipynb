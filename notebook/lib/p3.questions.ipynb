{
 "cells": [
  {
   "cell_type": "code",
   "execution_count": 1,
   "metadata": {},
   "outputs": [
    {
     "data": {
      "application/javascript": [
       "IPython.OutputArea.prototype._should_scroll = function(lines) {\n",
       "    return false;\n",
       "}"
      ],
      "text/plain": [
       "<IPython.core.display.Javascript object>"
      ]
     },
     "metadata": {},
     "output_type": "display_data"
    }
   ],
   "source": [
    "%%javascript\n",
    "IPython.OutputArea.prototype._should_scroll = function(lines) {\n",
    "    return false;\n",
    "}"
   ]
  },
  {
   "cell_type": "code",
   "execution_count": null,
   "metadata": {
    "collapsed": true
   },
   "outputs": [],
   "source": []
  },
  {
   "cell_type": "markdown",
   "metadata": {},
   "source": [
    "# Wrangle"
   ]
  },
  {
   "cell_type": "code",
   "execution_count": 9,
   "metadata": {},
   "outputs": [
    {
     "name": "stdout",
     "output_type": "stream",
     "text": [
      "* Import libraries\n"
     ]
    },
    {
     "ename": "ModuleNotFoundError",
     "evalue": "No module named 'p3_basic_summary'",
     "output_type": "error",
     "traceback": [
      "\u001b[0;31m---------------------------------------------------------------------------\u001b[0m",
      "\u001b[0;31mModuleNotFoundError\u001b[0m                       Traceback (most recent call last)",
      "\u001b[0;32m<ipython-input-9-3185d48302bf>\u001b[0m in \u001b[0;36m<module>\u001b[0;34m()\u001b[0m\n\u001b[1;32m     16\u001b[0m \u001b[0;32mimport\u001b[0m \u001b[0mlib\u001b[0m\u001b[0;34m.\u001b[0m\u001b[0mp3_table\u001b[0m \u001b[0;32mas\u001b[0m \u001b[0mmdtb\u001b[0m\u001b[0;34m\u001b[0m\u001b[0m\n\u001b[1;32m     17\u001b[0m \u001b[0;31m#\u001b[0m\u001b[0;34m\u001b[0m\u001b[0;34m\u001b[0m\u001b[0m\n\u001b[0;32m---> 18\u001b[0;31m \u001b[0;32mimport\u001b[0m \u001b[0mlib\u001b[0m\u001b[0;34m.\u001b[0m\u001b[0mp3_helper_functions\u001b[0m \u001b[0;32mas\u001b[0m \u001b[0mhelper\u001b[0m\u001b[0;34m\u001b[0m\u001b[0m\n\u001b[0m\u001b[1;32m     19\u001b[0m \u001b[0;32mimport\u001b[0m \u001b[0mp3_pie\u001b[0m \u001b[0;32mas\u001b[0m \u001b[0mpiie\u001b[0m\u001b[0;34m\u001b[0m\u001b[0m\n\u001b[1;32m     20\u001b[0m \u001b[0;31m#\u001b[0m\u001b[0;34m\u001b[0m\u001b[0;34m\u001b[0m\u001b[0m\n",
      "\u001b[0;32m~/Documents/Github/udacity/Project_03/v_final/lib/p3_helper_functions.py\u001b[0m in \u001b[0;36m<module>\u001b[0;34m()\u001b[0m\n\u001b[1;32m      8\u001b[0m \u001b[0;32mfrom\u001b[0m \u001b[0mp3_Chart\u001b[0m \u001b[0;32mimport\u001b[0m \u001b[0mChart\u001b[0m\u001b[0;34m\u001b[0m\u001b[0m\n\u001b[1;32m      9\u001b[0m \u001b[0;32mimport\u001b[0m \u001b[0mp3_bars\u001b[0m \u001b[0;32mas\u001b[0m \u001b[0mbars\u001b[0m\u001b[0;34m\u001b[0m\u001b[0m\n\u001b[0;32m---> 10\u001b[0;31m \u001b[0;32mimport\u001b[0m \u001b[0mp3_basic_summary\u001b[0m \u001b[0;32mas\u001b[0m \u001b[0msummary\u001b[0m\u001b[0;34m\u001b[0m\u001b[0m\n\u001b[0m\u001b[1;32m     11\u001b[0m \u001b[0;34m\u001b[0m\u001b[0m\n\u001b[1;32m     12\u001b[0m \u001b[0;32mimport\u001b[0m \u001b[0mp3_peaks\u001b[0m \u001b[0;32mas\u001b[0m \u001b[0mpeaks\u001b[0m\u001b[0;34m\u001b[0m\u001b[0m\n",
      "\u001b[0;31mModuleNotFoundError\u001b[0m: No module named 'p3_basic_summary'"
     ]
    }
   ],
   "source": [
    "#print('* Turn off the scrolling feature of Jupyter Notebook')\n",
    "# Import\n",
    "print('* Import libraries')\n",
    "import pandas as pd\n",
    "import matplotlib.pyplot as plt\n",
    "from IPython.display import Markdown\n",
    "from IPython.display import display, HTML\n",
    "from pprint import pprint\n",
    "\n",
    "import lib.p3_basic_summary as summary\n",
    "from p3_CellCounts import CellCounts\n",
    "#\n",
    "from p3_Transforms import Transforms, get_raw_transforms_json\n",
    "from p3_SummaryQuery import SummaryQuery\n",
    "from p3_Labels import Labels, get_feature_labels\n",
    "import lib.p3_table as mdtb\n",
    "#\n",
    "import lib.p3_helper_functions as helper\n",
    "import p3_pie as piie\n",
    "#\n",
    "import p3_bars as bars\n",
    "\n",
    "print('* Add magic keyword: ','%matplotlib inline' )\n",
    "%matplotlib inline\n",
    "print('* load utility classes')\n",
    "\n",
    "\n",
    "#--------------------------------- utility classs\n",
    "labels = Labels(get_feature_labels()) # load verbose feature labels\n",
    "cc = CellCounts()\n",
    "\n",
    "#--------------------------------- Open Clean data\n",
    "print('* Open clean data')\n",
    "transforms = Transforms(get_raw_transforms_json('conf.raw.transforms.json'))\n",
    "const_appt = 0\n",
    "const_patient = 1\n",
    "const_neighbourhood =2\n",
    "convert_appt_types = None\n",
    "convert_patient_types = { # configure type changes\n",
    "    'conversions': [\n",
    "        {'column':'patient_id','to':'int'}, \n",
    "        {'column':'appointments','to':'int'}, \n",
    "        {'column':'no_shows','to':'int'}, \n",
    "        {'column':'appointment_group','to':'int'},  \n",
    "        {'column':'scholarship','to':'int'},\n",
    "        {'column':'hipertension','to':'int'},\n",
    "        {'column':'diabetes','to':'int'},\n",
    "        {'column':'alcoholism','to':'int'},\n",
    "        {'column':'gender','to':'int'},\n",
    "    ]\n",
    "}\n",
    "convert_neighbourhood_types = None\n",
    "sources = [\n",
    "    {'transform':'appt_transform','type_conversion': convert_appt_types},\n",
    "    {'transform':'patient2_transform','type_conversion': convert_patient_types},\n",
    "    {'transform':'neighbourhood1_transform','type_conversion': convert_neighbourhood_types},\n",
    "]\n",
    "\n",
    "big_data = helper.open_source_data(sources,transforms)\n",
    "\n",
    "df_appt = big_data[const_appt]\n",
    "df_patient = big_data[const_patient]\n",
    "df_neighbourhood = big_data[const_neighbourhood]\n",
    "\n",
    "\n",
    "#-------------------------- Summerize Neighbourhood Data\n",
    "print('* summerize Neighbourhood data...')\n",
    "neighbourhood_summary, neighbourhood_no_show_summary,neighbourhood_show_up_summary \\\n",
    "    = helper.get_neighbourhood_summaries(df_neighbourhood)\n",
    "\n",
    "#--------------------------------- Summerize Appointment Data\n",
    "print('* summerize appointment data...')\n",
    "appt_summary, appt_no_show_summary,appt_show_up_summary \\\n",
    "    = helper.get_appt_summaries(df_appt)\n",
    "\n",
    "#-------------------------- Summerize Patient Data\n",
    "print('* summerize patient data...')\n",
    "patient_summary, patient_no_show_summary,patient_show_up_summary \\\n",
    "    = helper.get_patient_summaries(df_patient)\n",
    "\n",
    "print('* Done')"
   ]
  },
  {
   "cell_type": "markdown",
   "metadata": {},
   "source": [
    "# Data Inspection"
   ]
  },
  {
   "cell_type": "code",
   "execution_count": null,
   "metadata": {
    "collapsed": true
   },
   "outputs": [],
   "source": [
    "# df_appointments.describe"
   ]
  },
  {
   "cell_type": "markdown",
   "metadata": {},
   "source": [
    "## Observations\n",
    "* \n",
    "*\n",
    "*"
   ]
  },
  {
   "cell_type": "markdown",
   "metadata": {},
   "source": [
    "# Questions\n",
    "#### _1. Does the number of visits matter with regards to skipping appointments?_\n",
    "#### _2. Do all patients have maladies?_\n",
    "#### _3. What is the most common reason for a visit?_\n",
    "#### _4. Which neighbourhood has the highest number of  patients?_\n",
    "#### _5. What is the most common patient malady by neighbourhood?_\n",
    "#### _6. What is the most common day of the week for appointments?_\n",
    "#### _7. What is most common time of day for appointments?_\n",
    "#### _8. Describe the relationship between patient appointments and no-shows_\n",
    "#### _9. Describe the relationship between patient age and no-shows_\n",
    "#### _10. Describe the relationship between patient appointments and age for shows and no-shows?_\n"
   ]
  },
  {
   "cell_type": "markdown",
   "metadata": {},
   "source": [
    "## _Does the number of visits matter with regards to skipping appointments?_\n",
    "\n",
    "Here I'm looking for people who are making appointments for preventitive care, such as annual checkups.  I expect preventative patients are a different population from those that have a diagnosis.\n",
    "\n",
    "> **Strategy** Count the number of visits per patient and examine the spread. \n",
    "\n",
    ">**Answer**\n",
    "* **Yes, the number of visits matters.**  First time patients are vulnerable to skipping. About 40% of all no-shows are first time visitors.\n",
    "* 71.7% of patients have never skipped an appointment, whereas 28.3% have skipped at least once.\n",
    "* Of all of the appointments, 11.4% have skipped thier first appointment. This can also be stated as 40% of all skippers have skipped on thier very first visit.\n",
    "   \n",
    " "
   ]
  },
  {
   "cell_type": "code",
   "execution_count": null,
   "metadata": {},
   "outputs": [],
   "source": [
    "helper.graph_Patient_Attendance_and_Skipped_Visits(df_patient)"
   ]
  },
  {
   "cell_type": "markdown",
   "metadata": {},
   "source": [
    "## _Do all patients have maladies?_\n",
    "\n",
    "Here I'm looking for people who are making appointments for preventitive care, such as annual checkups.  I expect preventative patients are a different population from those that have a diagnosis.\n",
    "\n",
    "> **Strategy** Query Patient data for any patient where all maladies are zero.\n",
    "* Maladie are hipertension, diabetes, alcoholism, and handcap\n",
    "\n",
    ">**Answer**\n",
    "* **No, not all patients have a malady**. \n",
    "    * 47788 patients have no recorded malady. \n",
    "    * 76.764% of patients have no health data on which to base a no-show prediction.\n",
    "\n"
   ]
  },
  {
   "cell_type": "code",
   "execution_count": null,
   "metadata": {},
   "outputs": [],
   "source": [
    "helper.qraph_Do_all_patient_have_maladies(df_patient)"
   ]
  },
  {
   "cell_type": "markdown",
   "metadata": {},
   "source": [
    "### Observations\n"
   ]
  },
  {
   "cell_type": "markdown",
   "metadata": {},
   "source": [
    "## _What is the most common Malady of Visiting Patients?_\n",
    "Patients can be grouped by malady.  These malady groups may be a source for predicting no-shows.\n",
    "\n",
    "> **Strategy** Group Patients to find most common maladys.\n",
    "* Maladies are hipertension, diabetes, alcoholism, and handcap\n",
    "\n",
    ">**Answer**\n",
    "* **Hipertension is the most common malady **. \n",
    "    * 76.764% (47788) of Patients have no malady \n",
    "    * 19.605% (12205) of Patients have hipertension \n",
    "    * 7.082% (4409) of Patients have diabetes \n",
    "    * 2.419% (1506) of Patients have alcoholism \n",
    "    * 1.815% (1130) of Patients have a handcap "
   ]
  },
  {
   "cell_type": "code",
   "execution_count": null,
   "metadata": {},
   "outputs": [],
   "source": [
    "helper.graph_What_is_the_most_common_Malady_of_Visiting_Patients(df_patient)"
   ]
  },
  {
   "cell_type": "markdown",
   "metadata": {},
   "source": [
    "## _Which neighbourhood has the highest number of  patients?_\n",
    "\n",
    "\n",
    "> **Strategy** Group Patients by neighbourhood.\n",
    "* \n",
    "neighbourhood\n",
    "                 \n",
    ">**Answer**\n",
    "* **JARDIM CAMBURI has the most patients ** \n",
    "    * 4192 patients in JARDIM CAMBURI\n",
    "    * No visible pattern in the geographic distribution of appointments \n",
    "    "
   ]
  },
  {
   "cell_type": "code",
   "execution_count": null,
   "metadata": {},
   "outputs": [],
   "source": [
    "helper.neighbourhood_percents(df_patient)"
   ]
  },
  {
   "cell_type": "code",
   "execution_count": null,
   "metadata": {},
   "outputs": [],
   "source": [
    "helper.map_neighbourhood_appointments(df_neighbourhood)"
   ]
  },
  {
   "cell_type": "markdown",
   "metadata": {},
   "source": [
    "## _What is the most common patient malady by neighbourhood?_\n",
    "\n",
    "\n",
    "> **Strategy**: Use graphs for each neighbourhood to search out the malady with the highest occurance.\n",
    "*  Use dataframe.groupby and dataframe.idxmax(axis=1)\n",
    "                 \n",
    ">**Answer**:\n",
    "* **Hipertension is the most common malady had by a patient health care visit ** \n",
    "    "
   ]
  },
  {
   "cell_type": "markdown",
   "metadata": {},
   "source": [
    "### Graphs of maladies by neighbourhoods \n",
    "* The answer is here but not obvious...let's try a map (see below)"
   ]
  },
  {
   "cell_type": "code",
   "execution_count": null,
   "metadata": {},
   "outputs": [],
   "source": [
    "helper.graph_Most_Common_Neighbourhood_Malady(df_patient)"
   ]
  },
  {
   "cell_type": "markdown",
   "metadata": {},
   "source": [
    "### The answer becomes clear with a map\n",
    "* **Hipertension** is the most common malady across all neighbourhoods!"
   ]
  },
  {
   "cell_type": "code",
   "execution_count": null,
   "metadata": {},
   "outputs": [],
   "source": [
    "helper.map_Most_Common_Neighbourhood_Malady(df_neighbourhood,df_patient)"
   ]
  },
  {
   "cell_type": "markdown",
   "metadata": {},
   "source": [
    "# What is the most common day of the week for appointments?\n",
    "\n",
    "> **Strategy** \n",
    "* Breakdown the scheduled day of the appointment into year, month, day of week.\n",
    "* use graph to find the most common time of day\n",
    "\n",
    "> **Answer**:\n",
    "* **Tuesday (1)** has the highest number of scheduled visits\n",
    "* Saturday has too few visits to register on the graph\n",
    "* Sunday's have no patient appointments.\n",
    "* Looks like there might be a pattern emerging in the begining of the week (Mon, Tue, Wed). More appointments are scheduled at the begining verses the end of the week (Thr,Fri)\n"
   ]
  },
  {
   "cell_type": "code",
   "execution_count": null,
   "metadata": {},
   "outputs": [],
   "source": [
    "helper.graph_Scheduled_Day_of_Week(df_appt)"
   ]
  },
  {
   "cell_type": "markdown",
   "metadata": {},
   "source": [
    "# _What is most common time of day for appointments?_\n",
    "\n",
    "> **Strategy**: Show graph, list numbers and use get_favorites function to pick one or more peaks.\n",
    "\n",
    ">**Answer**: \n",
    "* **7:00** is the favored hour for appointments.\n",
    "* Looks like a pattern is emerging for scheduled_hour. High number of appointments in the early morning, decreases by noon and rises after noon and finally decreases toward the end of the day. The pattern echos for show and no-shows."
   ]
  },
  {
   "cell_type": "code",
   "execution_count": null,
   "metadata": {},
   "outputs": [],
   "source": [
    "helper.graph_What_is_Most_Common_Time_of_Day_for_Appointments(df_appt)"
   ]
  },
  {
   "cell_type": "markdown",
   "metadata": {},
   "source": [
    "\n",
    "# _Describe the relationship between patient appointments and no-shows_\n",
    "\n",
    "\n",
    "> **Strategy**: if a big patter exists, it should show itself by relationship. Make scatter plots, fit line to scatter, interperate the line slope. \n",
    "\n",
    ">**Answer**: \n",
    "* The relationship between Patient \"appointments\" in not visually revealing.  \n",
    "* equation:  y = 0.006974429953645027x + 0.18459023215908543\n",
    "* description:  As \"appointments\" increases \"no_show_ratio\" increases \"slowly\""
   ]
  },
  {
   "cell_type": "code",
   "execution_count": null,
   "metadata": {},
   "outputs": [],
   "source": [
    "helper.graph_Describe_the_relationship_between_patient_appointments_and_no_shows(df_patient) "
   ]
  },
  {
   "cell_type": "markdown",
   "metadata": {},
   "source": [
    "\n",
    "# _Describe the relationship between patient age and no-shows_\n",
    "\n",
    "\n",
    "> **Strategy**: if a big pattern exists, it should show itself by relationship. Make scatter plots, fit line to scatter, interperate the line slope. \n",
    "\n",
    ">**Answer**: \n",
    "* The relationship between Patient \"age\" and \"no-shows\" in not visually revealing.  \n",
    "* equation:  y = -0.0011679911130957098x + 0.24109070967559182\n",
    "* description:  As \"age\" increases \"no_show_ratio\" decreases \"slowly\"\n",
    "\n"
   ]
  },
  {
   "cell_type": "markdown",
   "metadata": {
    "collapsed": true
   },
   "source": [
    "### First what do No-Show vs Appointments look like?"
   ]
  },
  {
   "cell_type": "code",
   "execution_count": null,
   "metadata": {},
   "outputs": [],
   "source": [
    "helper.graph_Describe_the_relationship_between_patient_age_and_no_shows(df_patient) "
   ]
  },
  {
   "cell_type": "markdown",
   "metadata": {},
   "source": [
    "### Second??????????????????????"
   ]
  },
  {
   "cell_type": "code",
   "execution_count": null,
   "metadata": {
    "collapsed": true
   },
   "outputs": [],
   "source": []
  },
  {
   "cell_type": "markdown",
   "metadata": {},
   "source": [
    "# _Describe the relationship between patient appointments and age for shows and no-shows?_\n",
    "\n",
    "\n",
    "> **Strategy**: if a big patter exists, it should show itself by relationship. Make scatter plots, fit line to scatter, interperate the line slope. \n",
    "\n",
    ">**Answer**: \n",
    "* Age vs Appointments isn't giving up any visible insight.\n",
    "    * equation:  y = -0.0026724480188155455x + 1.6829472643933194\n",
    "    * description:  As \"age\" increases \"appointments\" decreases \"slowly\"\n",
    "* Looking at the patients that show up for their appointments yields almost no relationship\n",
    "    * equation:  y = -0.0026724480188155455x + 1.6829472643933194\n",
    "    * description:  As \"age\" increases \"appointments\" decreases \"slowly\"\n",
    "* Looking at the patients that are no-show, again yield almost no relationship\n",
    "    * equation:  y = -0.00181172532204667x + 2.6296590402358966\n",
    "    * description:  As \"age\" increases \"appointments\" decreases \"slowly\""
   ]
  },
  {
   "cell_type": "markdown",
   "metadata": {
    "collapsed": true
   },
   "source": [
    "### First what does Age vs Appointments look like?"
   ]
  },
  {
   "cell_type": "code",
   "execution_count": null,
   "metadata": {},
   "outputs": [],
   "source": [
    "helper.graph_First_what_does_Age_vs_Appointments_look_like(df_patient)  "
   ]
  },
  {
   "cell_type": "markdown",
   "metadata": {},
   "source": [
    "### What do shows look like?"
   ]
  },
  {
   "cell_type": "code",
   "execution_count": null,
   "metadata": {},
   "outputs": [],
   "source": [
    "helper.graph_What_do_shows_look_like(df_patient)"
   ]
  },
  {
   "cell_type": "markdown",
   "metadata": {},
   "source": [
    "### What do no-shows look like?"
   ]
  },
  {
   "cell_type": "code",
   "execution_count": null,
   "metadata": {},
   "outputs": [],
   "source": [
    "helper.graph_What_do_no_shows_look_like(df_patient)    "
   ]
  },
  {
   "cell_type": "code",
   "execution_count": null,
   "metadata": {
    "collapsed": true
   },
   "outputs": [],
   "source": []
  },
  {
   "cell_type": "code",
   "execution_count": null,
   "metadata": {
    "collapsed": true
   },
   "outputs": [],
   "source": []
  }
 ],
 "metadata": {
  "kernelspec": {
   "display_name": "Python [default]",
   "language": "python",
   "name": "python3"
  },
  "language_info": {
   "codemirror_mode": {
    "name": "ipython",
    "version": 3
   },
   "file_extension": ".py",
   "mimetype": "text/x-python",
   "name": "python",
   "nbconvert_exporter": "python",
   "pygments_lexer": "ipython3",
   "version": "3.6.3"
  }
 },
 "nbformat": 4,
 "nbformat_minor": 2
}
